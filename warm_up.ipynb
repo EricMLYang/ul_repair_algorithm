{
 "cells": [
  {
   "cell_type": "markdown",
   "id": "f473e237",
   "metadata": {},
   "source": [
    "# Reference:\n",
    "* [Automating Puzzle Solving With Python](https://betterprogramming.pub/automating-puzzle-solving-with-python-f3ecc242e059)\n",
    "* [Optimization Problem Types](https://neos-guide.org/guide/types/)\n",
    "* Shapely"
   ]
  },
  {
   "cell_type": "code",
   "execution_count": 53,
   "id": "26d452c7",
   "metadata": {},
   "outputs": [],
   "source": [
    "import os\n",
    "import sys\n",
    "\n",
    "import pandas as pd\n",
    "import numpy as np\n",
    "\n",
    "import matplotlib.pyplot as plt\n",
    "from skimage import draw"
   ]
  },
  {
   "cell_type": "code",
   "execution_count": null,
   "id": "558ee350",
   "metadata": {},
   "outputs": [],
   "source": [
    "'''Question:\n",
    "1. How do COC1 & COC2 move (Grid only or slash is okay?)\n",
    "2. Laser Frame position is fixed?\n",
    "\n",
    "'''\n",
    "\n",
    "\n",
    "''' Flow (First)\n",
    "Random initial position (COC1, COC2)\n",
    "\n",
    "While defect number != 0:\n",
    "    \n",
    "    COC2 pick nearest and laregest defect number position\n",
    "    COC1 pick nearest and max-match posiion \n",
    "    Record match point and update chip state\n",
    "    Calculate the distance (Manhattan distance?)\n",
    "    Find a position that let COC1 & COC2 can move\n",
    "    Update new position\n",
    "    Calculate moving time\n",
    "'''"
   ]
  },
  {
   "cell_type": "markdown",
   "id": "7b54d16b",
   "metadata": {},
   "source": [
    "# Main Action:\n",
    "## 1. Pick a group of chipsets from the wafer to fit the defect on the panel\n",
    "* \n",
    "　\n",
    "## 2. Calculate the distance in each run of pick\n",
    "* Manhattan distance\n",
    "\n",
    "## 3. Convert each distance into a couple of movement routes ( COC1, COC2)\n",
    "* midpoint of LineString\n",
    "* update the new location\n",
    "\n",
    "## 4. Calculate the time in each couple of movement routes\n",
    "* pick the longest (COC1 or COC2) move distence in each movement routes"
   ]
  },
  {
   "cell_type": "code",
   "execution_count": 73,
   "id": "8194422b",
   "metadata": {},
   "outputs": [],
   "source": [
    "# Try Algorithm\n",
    "* R-tree\n",
    "* genetic programming\n",
    "* Simulated Annealing\n",
    "* Ant Colony Optimization\n"
   ]
  },
  {
   "cell_type": "markdown",
   "id": "16b4146e",
   "metadata": {},
   "source": [
    "# Function"
   ]
  },
  {
   "cell_type": "code",
   "execution_count": 68,
   "id": "a50eaa75",
   "metadata": {},
   "outputs": [],
   "source": [
    "def generate_uLED_panel_with_random_defect(size: tuple, defect_rate=0.01):\n",
    "    \n",
    "    return np.random.choice([0, 1], size=size, p=[defect_rate, 1-defect_rate])\n",
    "\n",
    "\n",
    "def generate_wafer_with_random_defect(size, defect_rate=0.01):\n",
    "    size = (24, 24)\n",
    "    arr = np.zeros(size).astype(int)\n",
    "    rr, cc = draw.disk((size[0]/2, size[1]/2), radius=size[0]/2, shape=arr.shape)\n",
    "    arr[rr, cc] = 1\n",
    "    \n",
    "    CIRCLE_SQUARE_AREA_RATIO = 0.785\n",
    "    n_defect = int(defect_rate * size[0] * size[1] / CIRCLE_SQUARE_AREA_RATIO) \n",
    "    rr = np.random.choice(size[0], n_defect, replace=False)\n",
    "    cc = np.random.choice(size[1], n_defect, replace=False)\n",
    "    arr[rr, cc] = 0\n",
    "    \n",
    "    return arr"
   ]
  },
  {
   "cell_type": "markdown",
   "id": "2e95ef9e",
   "metadata": {},
   "source": [
    "# Test"
   ]
  },
  {
   "cell_type": "code",
   "execution_count": 50,
   "id": "c48a4886",
   "metadata": {},
   "outputs": [],
   "source": [
    "def test_generate_uLED_panel_with_random_defect():\n",
    "    result = generate_uLED_panel_with_random_defect((25, 25), 0.2)\n",
    "    assert result.shape == (25, 25)\n",
    "    assert 1 - result.sum()/(25*25) <= (0.2 * 1.1)\n",
    "\n",
    "test_generate_uLED_panel_with_random_defect()\n",
    "\n",
    "\n",
    "\n",
    "\n"
   ]
  },
  {
   "cell_type": "code",
   "execution_count": 72,
   "id": "d4d887e1",
   "metadata": {},
   "outputs": [
    {
     "data": {
      "image/png": "[encoded data removed]",
      "text/plain": [
       "<Figure size 432x288 with 1 Axes>"
      ]
     },
     "metadata": {
      "needs_background": "light"
     },
     "output_type": "display_data"
    },
    {
     "data": {
      "image/png": "[encoded data removed]",
      "text/plain": [
       "<Figure size 432x288 with 1 Axes>"
      ]
     },
     "metadata": {
      "needs_background": "light"
     },
     "output_type": "display_data"
    }
   ],
   "source": [
    "plt.imshow(generate_uLED_panel_with_random_defect((25, 25)))\n",
    "plt.show()\n",
    "plt.imshow(generate_wafer_with_random_defect((30, 30), defect_rate=0.01))\n",
    "plt.show()"
   ]
  },
  {
   "cell_type": "code",
   "execution_count": null,
   "id": "aa85a1a3",
   "metadata": {},
   "outputs": [],
   "source": []
  }
 ],
 "metadata": {
  "kernelspec": {
   "display_name": "Python 3",
   "language": "python",
   "name": "python3"
  },
  "language_info": {
   "codemirror_mode": {
    "name": "ipython",
    "version": 3
   },
   "file_extension": ".py",
   "mimetype": "text/x-python",
   "name": "python",
   "nbconvert_exporter": "python",
   "pygments_lexer": "ipython3",
   "version": "3.9.5"
  }
 },
 "nbformat": 4,
 "nbformat_minor": 5
}
